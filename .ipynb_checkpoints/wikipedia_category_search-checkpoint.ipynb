{
 "cells": [
  {
   "cell_type": "markdown",
   "metadata": {},
   "source": [
    "#### To do:\n",
    "1. Minimalize pull request functions, streamline and clean"
   ]
  },
  {
   "cell_type": "code",
   "execution_count": 10,
   "metadata": {},
   "outputs": [],
   "source": [
    "import requests\n",
    "import pymongo\n",
    "import time"
   ]
  },
  {
   "cell_type": "markdown",
   "metadata": {},
   "source": [
    "#### Build functions to search wikipedia and retrieve list of pages by top category"
   ]
  },
  {
   "cell_type": "code",
   "execution_count": 11,
   "metadata": {},
   "outputs": [],
   "source": [
    "def pull_subcats(category, categories_list):\n",
    "    category = '+'.join(category.split()).lower()\n",
    "    \n",
    "    api_head = 'https://en.wikipedia.org/w/api.php?'\n",
    "    api_action = 'action=query&'\n",
    "    api_list = 'list=categorymembers&'\n",
    "    api_cmtitle = 'cmtitle=Category:' + category + '&'\n",
    "    api_cmtype = 'cmtype=subcat&'\n",
    "    api_cmlimit = 'cmlimit=250&'\n",
    "    api_format = 'format=json'\n",
    "    \n",
    "    http = api_head + api_action + api_list + api_cmtitle + api_cmtype + api_cmlimit + api_format\n",
    "    \n",
    "    response = requests.get(http)\n",
    "    json = response.json()\n",
    "\n",
    "    subcats = []\n",
    "    for cat in json['query']['categorymembers']:\n",
    "        sc = cat['title'].split(':')[1]\n",
    "        subcats.append(sc)\n",
    "    \n",
    "    subs = subcats.copy()\n",
    "    categories_list.extend(subs)\n",
    "    \n",
    "    for sub in subs:\n",
    "        if sub not in categories_list:\n",
    "            sub_cats = pull_subcats(sub, categories_list)\n",
    "            if len(sub_cats) > 0:\n",
    "                subcats.extend(sub_cats)\n",
    "    \n",
    "    return subcats"
   ]
  },
  {
   "cell_type": "code",
   "execution_count": 12,
   "metadata": {},
   "outputs": [],
   "source": [
    "def pull_pages(category):\n",
    "    category = '+'.join(category.split()).lower()\n",
    "    \n",
    "    api_head = 'https://en.wikipedia.org/w/api.php?'\n",
    "    api_action = 'action=query&'\n",
    "    api_list = 'list=categorymembers&'\n",
    "    api_cmtitle = 'cmtitle=Category:' + category + '&'\n",
    "    api_cmtype = 'cmtype=page&'\n",
    "    api_cmlimit = 'cmlimit=250&'\n",
    "    api_format = 'format=json'\n",
    "    \n",
    "    http = api_head + api_action + api_list + api_cmtitle + api_cmtype + api_cmlimit + api_format\n",
    "    \n",
    "    response = requests.get(http)\n",
    "    json = response.json()\n",
    "    \n",
    "    pages = set()\n",
    "    for page in json['query']['categorymembers']:\n",
    "        title = page['title']\n",
    "        page_id = page['pageid']\n",
    "        pages.add((page_id, title))\n",
    "    \n",
    "    return pages"
   ]
  },
  {
   "cell_type": "code",
   "execution_count": 13,
   "metadata": {},
   "outputs": [],
   "source": [
    "def all_subpages(categories_list):    \n",
    "    pages = set()\n",
    "    for cat in categories_list:\n",
    "        pages = pages.union(pull_pages(cat))\n",
    "    \n",
    "    return pages"
   ]
  },
  {
   "cell_type": "code",
   "execution_count": 14,
   "metadata": {},
   "outputs": [],
   "source": [
    "def get_cat_page(page, pageid):    \n",
    "    page = page.replace('+', '%2B')\n",
    "    page = '%20'.join(page.split())\n",
    "    \n",
    "    api_head = 'https://en.wikipedia.org/w/api.php?'\n",
    "    api_action = 'action=query&'\n",
    "    api_titles = 'titles=' + page + '&'\n",
    "    api_pageid = 'pageids=' + str(pageid) + '&'\n",
    "    api_prop = 'prop=categories&'\n",
    "    \n",
    "    api_format = 'format=json'\n",
    "    \n",
    "    http = api_head + api_action + api_action + api_titles + api_prop + api_format\n",
    "    \n",
    "    response = requests.get(http)\n",
    "    data = response.json()\n",
    "    \n",
    "    try:\n",
    "        cats = data['query']['pages'][str(pageid)]['categories']\n",
    "    except:\n",
    "        cats = {}\n",
    "    \n",
    "    cats_list = []\n",
    "    \n",
    "    for cat in cats:\n",
    "        cats_list.append(cat['title'])\n",
    "    \n",
    "    return cats_list"
   ]
  },
  {
   "cell_type": "code",
   "execution_count": 34,
   "metadata": {},
   "outputs": [],
   "source": [
    "def get_page_text(title, page_id):\n",
    "    title = title.replace('+', '%2B')\n",
    "    ptitle = '+'.join(title.split())\n",
    "    \n",
    "    api_head = 'https://en.wikipedia.org/w/api.php?'\n",
    "    api_action = 'action=query&'\n",
    "    api_prop = 'prop=revisions&'\n",
    "    api_rvprop = 'rvprop=content&'\n",
    "    api_titles = 'titles=' + ptitle + '&'\n",
    "    api_pageid = 'pageids=' + page_id + '&'\n",
    "    api_format2 = 'formatversion=2&'\n",
    "    api_format = 'format=json&'\n",
    "    \n",
    "    \n",
    "    http = api_head + api_action + api_prop + api_rvprop + api_titles + api_format2 + api_format\n",
    "    response = requests.get(http)\n",
    "    json = response.json()\n",
    "    \n",
    "    try:\n",
    "        text = json['query']['pages'][0]['revisions'][0]['content']\n",
    "    except:\n",
    "        text = None\n",
    "    \n",
    "    return text"
   ]
  },
  {
   "cell_type": "markdown",
   "metadata": {},
   "source": [
    "#### Master function, pulls and orders data"
   ]
  },
  {
   "cell_type": "code",
   "execution_count": 16,
   "metadata": {},
   "outputs": [],
   "source": [
    "def get_wiki_category_pages(top_category):\n",
    "    start = time.time()\n",
    "    categories = [top_category]\n",
    "    categories.extend(pull_subcats(top_category, categories))\n",
    "\n",
    "    pages_list = list(all_subpages(categories))\n",
    "\n",
    "    all_pages_dict = dict()\n",
    "    \n",
    "    for pageid, topic in pages_list:\n",
    "        all_pages_dict[pageid] = {'title': topic}\n",
    "        \n",
    "    for pageid, title_dict in all_pages_dict.items():\n",
    "        title_dict['categories'] = get_cat_page(title_dict['title'], pageid)\n",
    "        title_dict['page_id'] = str(pageid)\n",
    "\n",
    "    all_lod = []\n",
    "    \n",
    "    for pageid, title_dict in all_pages_dict.items():\n",
    "        all_lod.append(title_dict)\n",
    "        \n",
    "    for page_dict in all_lod:\n",
    "        page_dict['text'] = get_page_text(page_dict['title'], page_dict['page_id'])\n",
    "        page_dict['Category'] = top_category\n",
    "        \n",
    "    print(time.time() - start)\n",
    "    return all_lod"
   ]
  },
  {
   "cell_type": "code",
   "execution_count": 57,
   "metadata": {},
   "outputs": [],
   "source": [
    "# top_category = \"Machine Learning\""
   ]
  },
  {
   "cell_type": "code",
   "execution_count": 63,
   "metadata": {},
   "outputs": [],
   "source": [
    "# start = time.time()\n",
    "# categories = [top_category]\n",
    "# categories.extend(pull_subcats(top_category, categories))\n",
    "\n",
    "# pages_list = list(all_subpages(categories))\n",
    "\n",
    "# all_pages_dict = dict()\n",
    "\n",
    "# print(time.time() - start)"
   ]
  },
  {
   "cell_type": "code",
   "execution_count": 62,
   "metadata": {},
   "outputs": [],
   "source": [
    "# categories"
   ]
  },
  {
   "cell_type": "code",
   "execution_count": 64,
   "metadata": {},
   "outputs": [],
   "source": [
    "# len(pages_list)"
   ]
  },
  {
   "cell_type": "code",
   "execution_count": 17,
   "metadata": {},
   "outputs": [],
   "source": [
    "# for pageid, topic in pages_list:\n",
    "#     all_pages_dict[pageid] = {'title': topic}"
   ]
  },
  {
   "cell_type": "code",
   "execution_count": 55,
   "metadata": {},
   "outputs": [
    {
     "data": {
      "text/plain": [
       "1394"
      ]
     },
     "execution_count": 55,
     "metadata": {},
     "output_type": "execute_result"
    }
   ],
   "source": [
    "# len(all_pages_dict)"
   ]
  },
  {
   "cell_type": "code",
   "execution_count": 54,
   "metadata": {},
   "outputs": [],
   "source": [
    "# for pageid, title_dict in all_pages_dict.items():\n",
    "#     title_dict['categories'] = get_cat_page(title_dict['title'], pageid)\n",
    "#     title_dict['page_id'] = str(pageid)\n",
    "\n",
    "# all_lod = []"
   ]
  },
  {
   "cell_type": "code",
   "execution_count": 57,
   "metadata": {},
   "outputs": [],
   "source": [
    "# for pageid, title_dict in all_pages_dict.items():\n",
    "#     all_lod.append(title_dict)"
   ]
  },
  {
   "cell_type": "code",
   "execution_count": 60,
   "metadata": {},
   "outputs": [],
   "source": [
    "# for page_dict in all_lod:\n",
    "#     page_dict['text'] = get_page_text(page_dict['title'], page_dict['page_id'])\n",
    "#     page_dict['Category'] = top_category"
   ]
  },
  {
   "cell_type": "code",
   "execution_count": 1,
   "metadata": {},
   "outputs": [],
   "source": [
    "#all_lod"
   ]
  },
  {
   "cell_type": "markdown",
   "metadata": {},
   "source": [
    "#### MongoDB Upload"
   ]
  },
  {
   "cell_type": "code",
   "execution_count": 66,
   "metadata": {},
   "outputs": [],
   "source": [
    "def post_to_mongo(category, page_list):\n",
    "    cli = pymongo.MongoClient('34.209.242.27', 27016)\n",
    "    wikidb = cli.wikipedia\n",
    "    coll_ref = wikidb.get_collection(category)\n",
    "    coll_ref.insert_many(page_list)"
   ]
  },
  {
   "cell_type": "code",
   "execution_count": 7,
   "metadata": {},
   "outputs": [
    {
     "data": {
      "text/plain": [
       "['admin', 'local', 'my_database', 'test', 'wikipedia']"
      ]
     },
     "execution_count": 7,
     "metadata": {},
     "output_type": "execute_result"
    }
   ],
   "source": [
    "cli = pymongo.MongoClient('34.209.242.27', 27016)\n",
    "wikidb = cli.wikipedia\n",
    "cli.database_names()"
   ]
  },
  {
   "cell_type": "code",
   "execution_count": 72,
   "metadata": {},
   "outputs": [
    {
     "data": {
      "text/plain": [
       "['bussof', 'Machine Learning 2', 'ml_col', 'Business Software 2']"
      ]
     },
     "execution_count": 72,
     "metadata": {},
     "output_type": "execute_result"
    }
   ],
   "source": [
    "wikidb.collection_names()"
   ]
  },
  {
   "cell_type": "code",
   "execution_count": 64,
   "metadata": {},
   "outputs": [],
   "source": [
    "# coll_ref = wikidb.bussof"
   ]
  },
  {
   "cell_type": "code",
   "execution_count": 65,
   "metadata": {},
   "outputs": [],
   "source": [
    "# for page in all_lod:\n",
    "#     coll_ref.insert_one(page)"
   ]
  },
  {
   "cell_type": "code",
   "execution_count": 66,
   "metadata": {},
   "outputs": [
    {
     "data": {
      "text/plain": [
       "['bussof', 'ml_col']"
      ]
     },
     "execution_count": 66,
     "metadata": {},
     "output_type": "execute_result"
    }
   ],
   "source": [
    "# wikidb.collection_names()"
   ]
  },
  {
   "cell_type": "code",
   "execution_count": 73,
   "metadata": {},
   "outputs": [
    {
     "data": {
      "text/plain": [
       "1393"
      ]
     },
     "execution_count": 73,
     "metadata": {},
     "output_type": "execute_result"
    }
   ],
   "source": [
    "col_ref = wikidb.get_collection('Business Software 2')\n",
    "col_ref.count()"
   ]
  },
  {
   "cell_type": "code",
   "execution_count": 69,
   "metadata": {},
   "outputs": [],
   "source": [
    "#coll_ref.count()"
   ]
  },
  {
   "cell_type": "code",
   "execution_count": 70,
   "metadata": {},
   "outputs": [
    {
     "data": {
      "text/plain": [
       "(1394, 1107)"
      ]
     },
     "execution_count": 70,
     "metadata": {},
     "output_type": "execute_result"
    }
   ],
   "source": [
    "wikidb.bussof.count(), wikidb.ml_col.count()"
   ]
  },
  {
   "cell_type": "markdown",
   "metadata": {},
   "source": [
    "#### Pull pages and populate MongoDB Server\n",
    "\n",
    "Page pull procedure currently takes about 8~11 minutes depending on category. \n",
    "Proceed with care. \n",
    "\n",
    "Business Software timeit: 680.58\n",
    "\n",
    "Machine Learning timeit: 445.4"
   ]
  },
  {
   "cell_type": "code",
   "execution_count": 35,
   "metadata": {},
   "outputs": [
    {
     "name": "stdout",
     "output_type": "stream",
     "text": [
      "680.5887079238892\n"
     ]
    }
   ],
   "source": [
    "bus_sof_list = get_wiki_category_pages('Business Software')"
   ]
  },
  {
   "cell_type": "code",
   "execution_count": 40,
   "metadata": {},
   "outputs": [
    {
     "name": "stdout",
     "output_type": "stream",
     "text": [
      "445.40201592445374\n"
     ]
    }
   ],
   "source": [
    "ml_list = get_wiki_category_pages('Machine Learning')"
   ]
  },
  {
   "cell_type": "code",
   "execution_count": 67,
   "metadata": {},
   "outputs": [],
   "source": [
    "post_to_mongo('Machine Learning 2', ml_list)"
   ]
  },
  {
   "cell_type": "code",
   "execution_count": 71,
   "metadata": {},
   "outputs": [],
   "source": [
    "post_to_mongo('Business Software 2', bus_sof_list)"
   ]
  },
  {
   "cell_type": "code",
   "execution_count": 75,
   "metadata": {},
   "outputs": [],
   "source": [
    "# cats_checker = []\n",
    "# for page in ml_list:\n",
    "#     cats_checker.append(page['categories'])"
   ]
  },
  {
   "cell_type": "code",
   "execution_count": 76,
   "metadata": {},
   "outputs": [],
   "source": [
    "# for lists in cats_checker:\n",
    "#     if len(lists) == 1:\n",
    "#         if lists == ['Category:Machine learning']:\n",
    "#             print(lists)"
   ]
  },
  {
   "cell_type": "code",
   "execution_count": 74,
   "metadata": {},
   "outputs": [],
   "source": [
    "# cats_checker"
   ]
  },
  {
   "cell_type": "markdown",
   "metadata": {},
   "source": [
    "#### Rudimentary UX"
   ]
  },
  {
   "cell_type": "code",
   "execution_count": 87,
   "metadata": {},
   "outputs": [],
   "source": [
    "def pull_and_pop():\n",
    "    print(\"Warning, the following script could take up to 20 minutes to complete. Are you sure you wish to continue?\")\n",
    "    contin = input(\"yes/no: \")\n",
    "    if contin == 'no':\n",
    "        return \"Quit.\"\n",
    "    category_one = input(\"Input Category 1: \")\n",
    "    category_two = input(\"Input Category 2: \")\n",
    "    #print(category_one, category_two)\n",
    "    \n",
    "    category_one_list = get_wiki_category_pages(category_one)\n",
    "    category_two_list = get_wiki_category_pages(category_two)\n",
    "    \n",
    "    post_to_mongo(category_one, category_one_list)\n",
    "    post_to_mongo(category_two, category_two_list)\n",
    "    \n",
    "    return [category_one, category_two]"
   ]
  },
  {
   "cell_type": "code",
   "execution_count": 83,
   "metadata": {},
   "outputs": [],
   "source": [
    "#pull_and_pop()"
   ]
  }
 ],
 "metadata": {
  "kernelspec": {
   "display_name": "Python 3",
   "language": "python",
   "name": "python3"
  },
  "language_info": {
   "codemirror_mode": {
    "name": "ipython",
    "version": 3
   },
   "file_extension": ".py",
   "mimetype": "text/x-python",
   "name": "python",
   "nbconvert_exporter": "python",
   "pygments_lexer": "ipython3",
   "version": "3.6.2"
  }
 },
 "nbformat": 4,
 "nbformat_minor": 2
}
