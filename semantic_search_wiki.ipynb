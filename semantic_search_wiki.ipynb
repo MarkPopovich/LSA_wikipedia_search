{
 "cells": [
  {
   "cell_type": "markdown",
   "metadata": {},
   "source": [
    "### Objective\n",
    "\n",
    "    1 - Implement TFIDF on text from wikipedia articles\n",
    "    2 - Sort articles for closest match"
   ]
  },
  {
   "cell_type": "code",
   "execution_count": 1,
   "metadata": {},
   "outputs": [],
   "source": [
    "import matplotlib.pyplot as plt\n",
    "import numpy as np\n",
    "import pandas as pd\n",
    "import seaborn as sns\n",
    "import pymongo \n",
    "from sklearn.feature_extraction.text import TfidfVectorizer\n",
    "from sklearn.decomposition import TruncatedSVD\n",
    "%matplotlib inline"
   ]
  },
  {
   "cell_type": "markdown",
   "metadata": {},
   "source": [
    "#### Load df for ML and BusSof wiki from MongoDB"
   ]
  },
  {
   "cell_type": "code",
   "execution_count": 2,
   "metadata": {},
   "outputs": [],
   "source": [
    "def get_list_pages(col_name, ip='34.209.242.27'):\n",
    "    cli = pymongo.MongoClient(ip, 27016)\n",
    "    wikidb = cli.wikipedia\n",
    "    col_pages = wikidb.get_collection(col_name)\n",
    "    cursor = col_pages.find()\n",
    "    text_list = []\n",
    "    for entry in list(cursor):\n",
    "        text_list.append(entry)\n",
    "        \n",
    "    return text_list"
   ]
  },
  {
   "cell_type": "code",
   "execution_count": 7,
   "metadata": {},
   "outputs": [
    {
     "data": {
      "text/plain": [
       "['bussof', 'Machine Learning 2', 'ml_col', 'Business Software 2']"
      ]
     },
     "execution_count": 7,
     "metadata": {},
     "output_type": "execute_result"
    }
   ],
   "source": [
    "cli = pymongo.MongoClient('34.209.242.27', 27016)\n",
    "wikidb = cli.wikipedia\n",
    "wikidb.collection_names()"
   ]
  },
  {
   "cell_type": "code",
   "execution_count": 8,
   "metadata": {},
   "outputs": [],
   "source": [
    "ml_df = pd.DataFrame(get_list_pages('Machine Learning 2'))\n",
    "bizsoft_df = pd.DataFrame(get_list_pages('Business Software 2'))"
   ]
  },
  {
   "cell_type": "code",
   "execution_count": 12,
   "metadata": {},
   "outputs": [
    {
     "data": {
      "text/plain": [
       "'{{multiple issues|\\n{{COI|date=September 2011}}\\n{{Orphan|date=September 2011}}\\n}}\\n\\n{{Infobox software\\n| name = SAP Business Rule Framework plus (BRFplus)\\n| logo = \\n| screenshot = BRFplus.PNG\\n| caption = Pricing rule with BRFplus\\n| developer = [[SAP AG|SAP]]\\n| frequently updated = yes <!-- Release version update? Don\\'t edit this page, just click on the version number!-->\\n| operating_system = [[Microsoft Windows]], [[Linux]]\\n| genre = [[BRMS]]\\n| license = SAP NetWeaver 7.0 Enhancement Package 2\\n| website = [http://www.sdn.sap.com/irj/sdn/nw-rules-management?rid=/webcontent/uuid/d00df7db-c783-2b10-aa97-ccfeacc19fcb BRFplus on SAP Developers Network (SDN)]\\n}}\\n\\n\\'\\'\\'BRFplus\\'\\'\\' (Business Rule Framework plus) is a [[BRMS|business rules management system (BRMS)]] offered by [[SAP AG]]. BRFplus is part of the [[SAP NetWeaver]] [[ABAP|ABAP stack]]. Therefore, all SAP applications that are based on SAP NetWeaver can access BRFplus within the boundaries of an SAP system. However, it is also possible to generate [[web service]]s so that BRFplus rules can also be offered as a service in a [[Service-oriented architecture|SOA]] landscape, regardless of the software platform used by the service consumers.\\n\\nBRFplus development started as a supporting tool that was part of [[SAP Business ByDesign]], an [[Enterprise resource planning|ERP]] solution targeted at small and medium size companies. By that time, the tool was called “Formula and Derivation Tool” (FDT). Later on, it was decided to maintain BRFplus on those codelines that serve as the basis for [[SAP Business Suite]]. With that, [[business rule]]s that have been created for Business ByDesign can easily be taken over in a full-size SAP system where they are ready for use without any changes.\\n\\n== Overview ==\\nBRFplus offers a unified modeling and runtime environment for business rules that addresses both technical users (programmers, system administrators) as well as business users who take care of operational business processes (like procurement, bidding, tax form validation, etc.). The different requirements and usage scenarios of the different target groups can be covered with the help of the SAP authorization system and a [[user interface]] that can be individually customized.\\n\\nBeing integrated into SAP NetWeaver, BRFplus-based applications can look at, and model, business rules from a strictly business-oriented perspective, rather than starting with the underlying technical artifacts. This is because the integration allows for direct access to the business objects available in the SAP dictionary (like customer , supplier, material, bill, etc.).\\n\\nIn addition to the predefined expression types (decision table, decision tree, formula, database access, loops, etc.) and actions (sending e-mails, triggering a workflow, etc.), BRFplus can be extended by custom expression types. Also, direct calls of function modules as well as ABAP OO class methods are supported so that the entire range of the ABAP programming language is available for solving business tasks.\\n\\nBRFplus comes with an optional [[Software versioning|versioning mechanism]]. Versioning can be switched on and off for individual objects as well as for entire applications. Versioned business rules are needed in certain use cases for legal reasons, but they also allow for simulating the system behavior as it would have been at a particular point in time.\\n\\nOnce the rule objects are in a consistent state and active, the system automatically generates ABAP OO classes that encapsulate the functional scope of the underlying rule object. This is done on an on-demand base and speeds up processing.\\n\\nThe execution of functions as well as of single expressions can be [[Simulation|simulated]]. The processing log of the simulation is useful for checking the implementation and for investigating problems.\\n\\nBRFplus applications can be exported and imported as an [[XML]] file. This is an easy way of creating a [[Backup|data backup]]. XML files can also be used for deploying rule applications throughout the company.\\n\\n== Main Object Types ==\\n\\n=== Application ===\\nThe application object serves as a container for all the BRFplus objects that have been assembled to solve a particular business task.  It is possible to define certain default settings on application level that are inherited by all objects that are created in the scope of that application.\\n\\n=== Function ===\\nA function is used to connect a business application with the rule processing framework of BRFplus. The calling business application passes input values to the function which are then processed by the expressions and rulesets that are associated with the called function. The calculated result is then returned to the calling business application.\\n\\n=== Expression types and action types ===\\n* [[Boolean data type|Boolean]]\\n* BRMS Connector\\n* [[Switch statement|Case]]\\n* Database Lookup\\n* [[Decision table|Decision Table]]\\n* [[Decision Tree]]\\n* [[Formula]]\\n* Function Call\\n* Loop\\n* Procedure Call\\n* [[Random number generation|Random Number]]\\n* Search Tree\\n* Step Sequence\\n* Value Range1\\n* [[XSL Transformation]]\\n\\n=== Ruleset ===\\nA ruleset is a container for an arbitrary number of rule objects which in turn carry out the necessary calculations with the help of assigned expressions and actions. Instead of assigning an expression to a function, it is also possible to assign any number of rulesets to a function. When the function is called, all assigned rulesets are subsequently processed.\\n\\n=== Data Objects ===\\nBRFplus supports elementary data objects (text, number, boolean, time point, amount, quantity) as well as structures and tables. Structures can be nested. For all types of data objects it is possible to reference data objects that reside in the data dictionary of the backend system. With that, a BRFplus data object does not only inherit the type definition of the referenced object but can also access associated data like domain value lists or object documentation.\\n\\n=== Other objects ===\\nWith catalogs, it is possible to define business-specific subsets of the rule objects that reside in the system. This is helpful for hiding the complexity of a rule system, thus improving usability.\\n\\nObject filters are used by system administrators to ensure that for selected users, only a predefined subset of object types is visible. This is useful to enforce access rights as well as modeling policies.\\n\\n== Other BRM solutions offered by SAP ==\\nBRFplus is positioned as the successor product of an older business rule solution known as BRF (Business Rule Framework). For a longer transition phase, both solutions exist in parallel. However, an increasing number of SAP applications that used to be based on BRF are constantly migrating to BRFplus.\\n\\nWhile BRFplus supports business rules for applications based on the SAP NetWeaver ABAP stack, SAP is offering another product named SAP NetWeaver Business Rules Management (BRM). BRM supports business rule modeling for the SAP NetWeaver [[Java (software platform)|Java]] stack. Both products do not compete. They are available in parallel and can be used in a collaborative approach to deal with use cases where both technology stacks are used in parallel. BRFplus comes with a special expression type that helps bridging the gap between the two different technologies.\\n\\n== Availability ==\\nBRFplus has been delivered to the public with SAP NetWeaver 7.0 Enhancement Package 1 for the first time. Being part of SAP NetWeaver, the usage of BRFplus is covered by the \"SAP NetWeaver Foundation for Third Party Applications\" license, with no additional costs.\\n\\n== Literature ==\\nCarsten Ziegler, Thomas Albrecht: BRFplus – Business Rule Management for ABAP Applications. Galileo Press 2011. {{ISBN|978-1-59229-293-6}}\\n\\n== External links ==\\n* [https://web.archive.org/web/20090621114050/http://www.sdn.sap.com/irj/sdn/index?rid=%2Fwebcontent%2Fuuid%2F90754865-f283-2b10-6d9f-b10f3c28c3a0 BRFplus on SAP Developer\\'s Network (SDN)]\\n* [http://help.sap.com/saphelp_nw70ehp2/helpdata/en/cc/85414842c8470bb19b53038c4b5259/frameset.htm BRFplus online documentation on SAP Help Portal]\\n* [https://blogs.sap.com/2015/01/29/brf-plus-a-real-time-example/ BRF Plus-A real time example]\\n\\n[[Category:Business software]]'"
      ]
     },
     "execution_count": 12,
     "metadata": {},
     "output_type": "execute_result"
    }
   ],
   "source": [
    "bizsoft_df['text'].head(1)[0]"
   ]
  },
  {
   "cell_type": "code",
   "execution_count": 4,
   "metadata": {},
   "outputs": [],
   "source": [
    "# bizy = lambda x: \"Business_Software\"\n",
    "# bizsoft_df['Category'] = bizsoft_df['Category'].map(bizy)"
   ]
  },
  {
   "cell_type": "code",
   "execution_count": 5,
   "metadata": {},
   "outputs": [],
   "source": [
    "wiki_df = pd.concat([ml_df, bizsoft_df], axis=0)"
   ]
  },
  {
   "cell_type": "code",
   "execution_count": 6,
   "metadata": {},
   "outputs": [],
   "source": [
    "import re"
   ]
  },
  {
   "cell_type": "code",
   "execution_count": 7,
   "metadata": {},
   "outputs": [],
   "source": [
    "def cleaner(text):\n",
    "    text = re.sub('&#39;','',text).lower()\n",
    "    text = re.sub('<br />','',text)\n",
    "    text = re.sub('<.*>.*</.*>','', text)\n",
    "    text = re.sub('\\\\ufeff', '', text)\n",
    "    text = re.sub('[\\d]','',text)\n",
    "    text = re.sub('[^a-z ]','',text)\n",
    "    #text = ' '.join(text.split())\n",
    "    return text"
   ]
  },
  {
   "cell_type": "code",
   "execution_count": 8,
   "metadata": {},
   "outputs": [],
   "source": [
    "#clean = lambda x: re.sub('/[^a-z0-9-]/g', \"\", x)\n",
    "\n",
    "wiki_df['text'] = wiki_df['text'].map(str)\n",
    "wiki_df['text'] = wiki_df['text'].apply(cleaner)"
   ]
  },
  {
   "cell_type": "code",
   "execution_count": 9,
   "metadata": {},
   "outputs": [],
   "source": [
    "wiki_df.set_index('page_id', inplace=True)"
   ]
  },
  {
   "cell_type": "code",
   "execution_count": 10,
   "metadata": {},
   "outputs": [
    {
     "data": {
      "text/html": [
       "<div>\n",
       "<table border=\"1\" class=\"dataframe\">\n",
       "  <thead>\n",
       "    <tr style=\"text-align: right;\">\n",
       "      <th></th>\n",
       "      <th>Category</th>\n",
       "      <th>_id</th>\n",
       "      <th>categoies</th>\n",
       "      <th>text</th>\n",
       "      <th>title</th>\n",
       "    </tr>\n",
       "    <tr>\n",
       "      <th>page_id</th>\n",
       "      <th></th>\n",
       "      <th></th>\n",
       "      <th></th>\n",
       "      <th></th>\n",
       "      <th></th>\n",
       "    </tr>\n",
       "  </thead>\n",
       "  <tbody>\n",
       "    <tr>\n",
       "      <th>18025626</th>\n",
       "      <td>Business_Software</td>\n",
       "      <td>5a0e80f38423e101482c8e5b</td>\n",
       "      <td>[Category:All articles with dead external link...</td>\n",
       "      <td>document automation also known as document ass...</td>\n",
       "      <td>Document automation</td>\n",
       "    </tr>\n",
       "    <tr>\n",
       "      <th>42363103</th>\n",
       "      <td>Business_Software</td>\n",
       "      <td>5a0e80ee8423e101482c8e3c</td>\n",
       "      <td>[Category:Business software, Category:Companie...</td>\n",
       "      <td>infobox company  name      gooddata  logo     ...</td>\n",
       "      <td>GoodData</td>\n",
       "    </tr>\n",
       "    <tr>\n",
       "      <th>41699654</th>\n",
       "      <td>Business_Software</td>\n",
       "      <td>5a0e81068423e101482c8edc</td>\n",
       "      <td>[Category:1993 video games, Category:All artic...</td>\n",
       "      <td>multiple issuesnotabilityproductsdateoctober o...</td>\n",
       "      <td>On the Ball (video game)</td>\n",
       "    </tr>\n",
       "    <tr>\n",
       "      <th>15689191</th>\n",
       "      <td>Machine Learning</td>\n",
       "      <td>5a0d0b308423e1001feda4ac</td>\n",
       "      <td>[Category:All articles lacking sources, Catego...</td>\n",
       "      <td>unreferenceddatejuly a loglinear model is a ma...</td>\n",
       "      <td>Log-linear model</td>\n",
       "    </tr>\n",
       "    <tr>\n",
       "      <th>12286078</th>\n",
       "      <td>Business_Software</td>\n",
       "      <td>5a0e80f68423e101482c8e81</td>\n",
       "      <td>[Category:All articles lacking sources, Catego...</td>\n",
       "      <td>unreferenceddateseptember a workflow applicati...</td>\n",
       "      <td>Workflow application</td>\n",
       "    </tr>\n",
       "  </tbody>\n",
       "</table>\n",
       "</div>"
      ],
      "text/plain": [
       "                   Category                       _id  \\\n",
       "page_id                                                 \n",
       "18025626  Business_Software  5a0e80f38423e101482c8e5b   \n",
       "42363103  Business_Software  5a0e80ee8423e101482c8e3c   \n",
       "41699654  Business_Software  5a0e81068423e101482c8edc   \n",
       "15689191   Machine Learning  5a0d0b308423e1001feda4ac   \n",
       "12286078  Business_Software  5a0e80f68423e101482c8e81   \n",
       "\n",
       "                                                  categoies  \\\n",
       "page_id                                                       \n",
       "18025626  [Category:All articles with dead external link...   \n",
       "42363103  [Category:Business software, Category:Companie...   \n",
       "41699654  [Category:1993 video games, Category:All artic...   \n",
       "15689191  [Category:All articles lacking sources, Catego...   \n",
       "12286078  [Category:All articles lacking sources, Catego...   \n",
       "\n",
       "                                                       text  \\\n",
       "page_id                                                       \n",
       "18025626  document automation also known as document ass...   \n",
       "42363103  infobox company  name      gooddata  logo     ...   \n",
       "41699654  multiple issuesnotabilityproductsdateoctober o...   \n",
       "15689191  unreferenceddatejuly a loglinear model is a ma...   \n",
       "12286078  unreferenceddateseptember a workflow applicati...   \n",
       "\n",
       "                             title  \n",
       "page_id                             \n",
       "18025626       Document automation  \n",
       "42363103                  GoodData  \n",
       "41699654  On the Ball (video game)  \n",
       "15689191          Log-linear model  \n",
       "12286078      Workflow application  "
      ]
     },
     "execution_count": 10,
     "metadata": {},
     "output_type": "execute_result"
    }
   ],
   "source": [
    "wiki_df.sample(5)"
   ]
  },
  {
   "cell_type": "markdown",
   "metadata": {},
   "source": [
    "#### Use TFIDF to vectorize page text"
   ]
  },
  {
   "cell_type": "code",
   "execution_count": 11,
   "metadata": {},
   "outputs": [],
   "source": [
    "tfidf_vector = TfidfVectorizer(min_df=5, stop_words=\"english\")"
   ]
  },
  {
   "cell_type": "code",
   "execution_count": 12,
   "metadata": {},
   "outputs": [],
   "source": [
    "wiki_pages_matrix_spare = tfidf_vector.fit_transform(wiki_df['text'])\n",
    "wiki_pages_df_tfd = pd.DataFrame(wiki_pages_matrix_spare.toarray(),\n",
    "                                index=wiki_df.index,\n",
    "                                columns=tfidf_vector.get_feature_names())\n",
    "full_wiki_text_tfd_df = pd.concat([wiki_df['text'], wiki_pages_df_tfd], axis=1)"
   ]
  },
  {
   "cell_type": "code",
   "execution_count": 13,
   "metadata": {},
   "outputs": [
    {
     "data": {
      "text/plain": [
       "(2501, 12849)"
      ]
     },
     "execution_count": 13,
     "metadata": {},
     "output_type": "execute_result"
    }
   ],
   "source": [
    "wiki_pages_df_tfd.shape"
   ]
  },
  {
   "cell_type": "markdown",
   "metadata": {},
   "source": [
    "### Compute SVD on document matrix to sort"
   ]
  },
  {
   "cell_type": "code",
   "execution_count": 34,
   "metadata": {},
   "outputs": [
    {
     "data": {
      "text/html": [
       "<div>\n",
       "<table border=\"1\" class=\"dataframe\">\n",
       "  <thead>\n",
       "    <tr style=\"text-align: right;\">\n",
       "      <th></th>\n",
       "      <th>aa</th>\n",
       "      <th>aaai</th>\n",
       "      <th>aalst</th>\n",
       "      <th>aaron</th>\n",
       "      <th>ab</th>\n",
       "      <th>abacus</th>\n",
       "      <th>abandoned</th>\n",
       "      <th>abbreviated</th>\n",
       "      <th>abbreviation</th>\n",
       "      <th>abbreviations</th>\n",
       "      <th>...</th>\n",
       "      <th>zoho</th>\n",
       "      <th>zone</th>\n",
       "      <th>zones</th>\n",
       "      <th>zoo</th>\n",
       "      <th>zoom</th>\n",
       "      <th>zos</th>\n",
       "      <th>zoubin</th>\n",
       "      <th>zur</th>\n",
       "      <th>zurich</th>\n",
       "      <th>zx</th>\n",
       "    </tr>\n",
       "    <tr>\n",
       "      <th>page_id</th>\n",
       "      <th></th>\n",
       "      <th></th>\n",
       "      <th></th>\n",
       "      <th></th>\n",
       "      <th></th>\n",
       "      <th></th>\n",
       "      <th></th>\n",
       "      <th></th>\n",
       "      <th></th>\n",
       "      <th></th>\n",
       "      <th></th>\n",
       "      <th></th>\n",
       "      <th></th>\n",
       "      <th></th>\n",
       "      <th></th>\n",
       "      <th></th>\n",
       "      <th></th>\n",
       "      <th></th>\n",
       "      <th></th>\n",
       "      <th></th>\n",
       "      <th></th>\n",
       "    </tr>\n",
       "  </thead>\n",
       "  <tbody>\n",
       "    <tr>\n",
       "      <th>30632997</th>\n",
       "      <td>0.0</td>\n",
       "      <td>0.0</td>\n",
       "      <td>0.0</td>\n",
       "      <td>0.0</td>\n",
       "      <td>0.0</td>\n",
       "      <td>0.0</td>\n",
       "      <td>0.000000</td>\n",
       "      <td>0.0</td>\n",
       "      <td>0.0</td>\n",
       "      <td>0.0</td>\n",
       "      <td>...</td>\n",
       "      <td>0.0</td>\n",
       "      <td>0.0</td>\n",
       "      <td>0.0</td>\n",
       "      <td>0.0</td>\n",
       "      <td>0.0</td>\n",
       "      <td>0.0</td>\n",
       "      <td>0.0</td>\n",
       "      <td>0.0</td>\n",
       "      <td>0.0</td>\n",
       "      <td>0.0</td>\n",
       "    </tr>\n",
       "    <tr>\n",
       "      <th>26499237</th>\n",
       "      <td>0.0</td>\n",
       "      <td>0.0</td>\n",
       "      <td>0.0</td>\n",
       "      <td>0.0</td>\n",
       "      <td>0.0</td>\n",
       "      <td>0.0</td>\n",
       "      <td>0.057049</td>\n",
       "      <td>0.0</td>\n",
       "      <td>0.0</td>\n",
       "      <td>0.0</td>\n",
       "      <td>...</td>\n",
       "      <td>0.0</td>\n",
       "      <td>0.0</td>\n",
       "      <td>0.0</td>\n",
       "      <td>0.0</td>\n",
       "      <td>0.0</td>\n",
       "      <td>0.0</td>\n",
       "      <td>0.0</td>\n",
       "      <td>0.0</td>\n",
       "      <td>0.0</td>\n",
       "      <td>0.0</td>\n",
       "    </tr>\n",
       "    <tr>\n",
       "      <th>16369738</th>\n",
       "      <td>0.0</td>\n",
       "      <td>0.0</td>\n",
       "      <td>0.0</td>\n",
       "      <td>0.0</td>\n",
       "      <td>0.0</td>\n",
       "      <td>0.0</td>\n",
       "      <td>0.000000</td>\n",
       "      <td>0.0</td>\n",
       "      <td>0.0</td>\n",
       "      <td>0.0</td>\n",
       "      <td>...</td>\n",
       "      <td>0.0</td>\n",
       "      <td>0.0</td>\n",
       "      <td>0.0</td>\n",
       "      <td>0.0</td>\n",
       "      <td>0.0</td>\n",
       "      <td>0.0</td>\n",
       "      <td>0.0</td>\n",
       "      <td>0.0</td>\n",
       "      <td>0.0</td>\n",
       "      <td>0.0</td>\n",
       "    </tr>\n",
       "    <tr>\n",
       "      <th>7309022</th>\n",
       "      <td>0.0</td>\n",
       "      <td>0.0</td>\n",
       "      <td>0.0</td>\n",
       "      <td>0.0</td>\n",
       "      <td>0.0</td>\n",
       "      <td>0.0</td>\n",
       "      <td>0.000000</td>\n",
       "      <td>0.0</td>\n",
       "      <td>0.0</td>\n",
       "      <td>0.0</td>\n",
       "      <td>...</td>\n",
       "      <td>0.0</td>\n",
       "      <td>0.0</td>\n",
       "      <td>0.0</td>\n",
       "      <td>0.0</td>\n",
       "      <td>0.0</td>\n",
       "      <td>0.0</td>\n",
       "      <td>0.0</td>\n",
       "      <td>0.0</td>\n",
       "      <td>0.0</td>\n",
       "      <td>0.0</td>\n",
       "    </tr>\n",
       "    <tr>\n",
       "      <th>55330205</th>\n",
       "      <td>0.0</td>\n",
       "      <td>0.0</td>\n",
       "      <td>0.0</td>\n",
       "      <td>0.0</td>\n",
       "      <td>0.0</td>\n",
       "      <td>0.0</td>\n",
       "      <td>0.000000</td>\n",
       "      <td>0.0</td>\n",
       "      <td>0.0</td>\n",
       "      <td>0.0</td>\n",
       "      <td>...</td>\n",
       "      <td>0.0</td>\n",
       "      <td>0.0</td>\n",
       "      <td>0.0</td>\n",
       "      <td>0.0</td>\n",
       "      <td>0.0</td>\n",
       "      <td>0.0</td>\n",
       "      <td>0.0</td>\n",
       "      <td>0.0</td>\n",
       "      <td>0.0</td>\n",
       "      <td>0.0</td>\n",
       "    </tr>\n",
       "  </tbody>\n",
       "</table>\n",
       "<p>5 rows × 12849 columns</p>\n",
       "</div>"
      ],
      "text/plain": [
       "           aa  aaai  aalst  aaron   ab  abacus  abandoned  abbreviated  \\\n",
       "page_id                                                                  \n",
       "30632997  0.0   0.0    0.0    0.0  0.0     0.0   0.000000          0.0   \n",
       "26499237  0.0   0.0    0.0    0.0  0.0     0.0   0.057049          0.0   \n",
       "16369738  0.0   0.0    0.0    0.0  0.0     0.0   0.000000          0.0   \n",
       "7309022   0.0   0.0    0.0    0.0  0.0     0.0   0.000000          0.0   \n",
       "55330205  0.0   0.0    0.0    0.0  0.0     0.0   0.000000          0.0   \n",
       "\n",
       "          abbreviation  abbreviations ...   zoho  zone  zones  zoo  zoom  zos  \\\n",
       "page_id                               ...                                       \n",
       "30632997           0.0            0.0 ...    0.0   0.0    0.0  0.0   0.0  0.0   \n",
       "26499237           0.0            0.0 ...    0.0   0.0    0.0  0.0   0.0  0.0   \n",
       "16369738           0.0            0.0 ...    0.0   0.0    0.0  0.0   0.0  0.0   \n",
       "7309022            0.0            0.0 ...    0.0   0.0    0.0  0.0   0.0  0.0   \n",
       "55330205           0.0            0.0 ...    0.0   0.0    0.0  0.0   0.0  0.0   \n",
       "\n",
       "          zoubin  zur  zurich   zx  \n",
       "page_id                             \n",
       "30632997     0.0  0.0     0.0  0.0  \n",
       "26499237     0.0  0.0     0.0  0.0  \n",
       "16369738     0.0  0.0     0.0  0.0  \n",
       "7309022      0.0  0.0     0.0  0.0  \n",
       "55330205     0.0  0.0     0.0  0.0  \n",
       "\n",
       "[5 rows x 12849 columns]"
      ]
     },
     "execution_count": 34,
     "metadata": {},
     "output_type": "execute_result"
    }
   ],
   "source": [
    "wiki_pages_df_tfd.head()"
   ]
  },
  {
   "cell_type": "code",
   "execution_count": 14,
   "metadata": {},
   "outputs": [],
   "source": [
    "n_components = 100\n",
    "SVD = TruncatedSVD(n_components)\n",
    "component_names = [\"component_\"+str(i+1) for i in range(n_components)]"
   ]
  },
  {
   "cell_type": "code",
   "execution_count": 15,
   "metadata": {},
   "outputs": [],
   "source": [
    "wiki_svd_matrix = SVD.fit_transform(wiki_pages_df_tfd)"
   ]
  },
  {
   "cell_type": "code",
   "execution_count": 36,
   "metadata": {},
   "outputs": [
    {
     "data": {
      "text/plain": [
       "array([[  1.63423144e-01,   1.41495792e-01,  -1.79123033e-03,\n",
       "         -1.72436698e-02,  -1.10398598e-01,  -1.72652986e-02,\n",
       "         -2.01521882e-02,   1.68462682e-02,   6.51002445e-02,\n",
       "          1.12084405e-01,   7.90359704e-02,  -5.26982479e-02,\n",
       "         -1.07386747e-02,   1.33838669e-01,  -6.38847829e-02,\n",
       "         -2.98023646e-02,   1.56784312e-02,   1.06877483e-02,\n",
       "          4.17276194e-02,  -4.91245161e-02,  -2.52677210e-02,\n",
       "         -2.76148211e-02,  -1.88843707e-02,   1.53222410e-02,\n",
       "         -1.60019745e-02,   1.66578937e-02,   9.86093860e-05,\n",
       "         -3.34842872e-03,   1.91287742e-03,   7.66833177e-03,\n",
       "         -7.67517390e-02,   1.27216103e-02,  -2.81010949e-03,\n",
       "         -3.70287487e-02,  -2.23941838e-02,   1.36198597e-02,\n",
       "          3.81595846e-02,  -2.99406275e-03,   5.85891349e-03,\n",
       "         -1.84224317e-03,  -2.60305035e-02,   4.54508536e-02,\n",
       "          1.84134244e-02,  -2.41000094e-02,  -7.27532944e-02,\n",
       "         -1.26204758e-02,   4.65502841e-03,   2.13822271e-02,\n",
       "          1.46989152e-02,   3.53274788e-02,   8.01634299e-03,\n",
       "          7.43988466e-03,   6.17125541e-02,  -3.82887012e-02,\n",
       "         -5.44276627e-02,  -1.91981431e-02,  -7.33690144e-02,\n",
       "         -4.09896512e-02,   6.68870584e-02,   2.19568776e-02,\n",
       "          6.41866961e-02,   6.48967935e-02,   4.18823555e-02,\n",
       "          2.16864194e-02,   4.52505411e-02,  -1.07714930e-02,\n",
       "          4.45741564e-02,   4.51864774e-02,   7.17101955e-04,\n",
       "         -5.72057784e-02,   4.34514506e-02,  -6.71754977e-02,\n",
       "          4.17576885e-02,   2.56718034e-02,  -2.35634933e-02,\n",
       "         -1.73441875e-02,   2.20374388e-02,   1.70873200e-02,\n",
       "         -4.06713015e-04,  -2.72237843e-02,  -6.39255010e-02,\n",
       "          7.20183911e-02,   1.09753786e-01,   4.99387154e-02,\n",
       "         -1.39108737e-02,  -7.38986140e-02,   1.04043275e-02,\n",
       "          1.32845656e-02,  -1.67873127e-02,   5.66583928e-02,\n",
       "         -3.63787482e-02,  -6.71941142e-02,  -2.03645908e-02,\n",
       "         -7.46155434e-03,   3.74144200e-02,  -1.76369969e-02,\n",
       "          2.52791842e-02,   2.13530269e-02,  -2.64477352e-02,\n",
       "         -1.76496218e-02],\n",
       "       [  1.30997700e-01,   1.11508831e-01,   1.59539832e-02,\n",
       "         -3.51653893e-02,  -8.83029518e-02,  -7.88229199e-03,\n",
       "          1.67210519e-02,   1.49120331e-02,   7.69707322e-03,\n",
       "          5.56459364e-02,   1.56041045e-01,   1.22954588e-01,\n",
       "         -5.42958945e-02,  -8.76718817e-03,   7.10084172e-03,\n",
       "          2.60510191e-02,  -5.26861657e-03,  -1.28091722e-02,\n",
       "         -3.49466056e-03,  -1.96517611e-02,   5.73250326e-03,\n",
       "          2.36738448e-03,  -2.35429400e-02,  -2.87067606e-03,\n",
       "          4.12576685e-03,   2.37426986e-02,   2.05127454e-02,\n",
       "          2.30672243e-02,   4.08145526e-02,  -4.64416881e-02,\n",
       "         -4.52911246e-02,  -1.06146741e-02,  -1.93575854e-02,\n",
       "          1.97961609e-02,   8.76916310e-02,  -9.58609407e-02,\n",
       "         -6.78554037e-02,  -6.65221593e-02,  -3.82878622e-02,\n",
       "         -2.32869789e-02,  -8.21745399e-02,   2.31944191e-02,\n",
       "          2.02202877e-02,  -4.98844532e-02,   8.47721139e-03,\n",
       "          2.28763600e-02,  -7.05953890e-02,  -8.80853433e-03,\n",
       "          6.98390327e-02,   6.38183855e-03,   3.65334939e-02,\n",
       "          1.72089575e-02,  -2.40684973e-02,  -5.60924314e-02,\n",
       "         -3.78161725e-02,  -5.75599384e-03,  -4.32491060e-02,\n",
       "         -9.74132374e-03,   7.30267103e-03,  -1.19255495e-02,\n",
       "          5.06672784e-02,   1.93992844e-02,   2.01588100e-04,\n",
       "          5.02971191e-03,  -1.93985965e-02,   1.38225436e-02,\n",
       "         -4.28223649e-02,  -2.56471174e-02,  -1.54294264e-03,\n",
       "         -1.37129134e-02,   3.89088917e-02,   1.21084804e-02,\n",
       "          3.43359862e-03,   6.68188097e-03,   1.00194757e-02,\n",
       "          4.07411484e-02,  -3.95868817e-02,  -3.59686411e-02,\n",
       "          2.86949865e-02,  -1.81393724e-02,   1.06600659e-02,\n",
       "          3.59563055e-02,  -4.22216897e-02,   3.45129870e-03,\n",
       "         -2.42451855e-02,  -2.20873432e-02,   6.42000721e-02,\n",
       "          1.78218573e-02,   9.38157641e-03,  -4.06461123e-04,\n",
       "         -2.40132410e-02,   2.21244488e-02,  -1.09731957e-02,\n",
       "         -2.60533243e-02,   1.22567215e-02,  -1.59438314e-02,\n",
       "          2.35467606e-02,   4.84386370e-03,   7.47477897e-02,\n",
       "         -4.19701969e-02],\n",
       "       [  1.14082303e-01,   1.47825134e-01,   3.01920409e-03,\n",
       "         -2.35196529e-02,  -1.23722448e-01,   3.16306716e-02,\n",
       "          7.83545104e-02,   3.08824045e-02,   1.74281230e-01,\n",
       "         -1.48197370e-01,   9.32319795e-03,  -5.58735196e-02,\n",
       "          1.14285155e-02,  -2.44572103e-02,  -1.59557755e-02,\n",
       "          2.72202907e-02,  -3.72286779e-02,  -1.76208426e-02,\n",
       "         -2.78003985e-02,   5.33914277e-02,  -3.63604874e-04,\n",
       "          5.52765617e-02,   1.30864075e-01,  -7.80004362e-03,\n",
       "          2.57779808e-02,  -1.64790366e-02,   1.37836437e-02,\n",
       "          6.63944594e-02,   7.42767482e-03,   3.32222448e-02,\n",
       "         -3.11269388e-03,  -2.90336651e-02,  -2.53217076e-02,\n",
       "          9.27115103e-03,  -3.08349481e-02,  -4.25104165e-02,\n",
       "          2.84274180e-02,  -1.06591897e-02,  -6.17143687e-02,\n",
       "          1.96555153e-02,  -5.65401335e-02,   6.13437743e-03,\n",
       "         -2.15891371e-02,  -1.31242879e-02,  -2.07149447e-02,\n",
       "         -1.71821675e-02,  -7.52045667e-02,   1.14191801e-02,\n",
       "          1.63822721e-03,   3.74896655e-03,   1.18931103e-02,\n",
       "          2.33509552e-02,   2.13303164e-02,  -1.91107060e-02,\n",
       "         -3.20655857e-02,  -2.78634394e-03,  -1.11634532e-02,\n",
       "         -1.64358656e-02,  -4.06617018e-04,  -5.26942800e-02,\n",
       "         -4.44857498e-02,  -6.58726316e-02,   2.01141095e-02,\n",
       "         -1.08058013e-02,  -2.04346388e-02,  -2.34566075e-02,\n",
       "         -3.20016290e-02,  -8.83679060e-03,  -5.59200471e-03,\n",
       "         -3.19797931e-04,   3.23135814e-02,  -5.44051676e-02,\n",
       "         -6.98709641e-02,   3.20453664e-03,   1.54860504e-02,\n",
       "         -9.28406089e-03,   1.06258375e-02,  -1.23824123e-02,\n",
       "         -6.16594827e-02,   3.16210137e-02,   2.64909151e-02,\n",
       "          4.54690669e-02,  -3.02332712e-02,   3.08016422e-02,\n",
       "         -4.87163459e-03,  -6.08853583e-03,   4.39010028e-02,\n",
       "          2.20387060e-02,   5.05242822e-04,  -1.93759055e-03,\n",
       "         -2.77082889e-02,  -2.98038971e-02,   3.09105980e-03,\n",
       "         -4.78081045e-02,   1.78871971e-02,   3.32601170e-02,\n",
       "         -2.36817055e-02,   2.72897577e-02,  -1.37204550e-02,\n",
       "         -2.45025640e-02],\n",
       "       [  2.11921599e-01,   2.36983786e-01,  -1.75136915e-03,\n",
       "         -3.44023062e-02,  -1.92290585e-01,  -2.74708423e-02,\n",
       "         -2.38340751e-02,   6.79896084e-02,  -5.39812207e-02,\n",
       "          2.10651570e-01,   9.78439073e-02,  -4.48146740e-03,\n",
       "          3.58468079e-02,   1.02312504e-01,  -5.19238408e-04,\n",
       "         -3.28800589e-02,   1.77695247e-02,  -6.12572983e-03,\n",
       "          4.44148762e-02,  -3.47056135e-02,   1.23378086e-02,\n",
       "         -5.03860922e-02,  -8.45810007e-02,  -1.27318574e-02,\n",
       "         -2.84821910e-02,  -1.79997588e-02,  -6.61976426e-03,\n",
       "         -4.27141284e-02,   3.97650558e-02,  -5.39167405e-02,\n",
       "         -3.59421308e-02,  -1.29330680e-02,  -3.81263870e-02,\n",
       "         -7.77472047e-03,   2.95410817e-02,  -4.79094588e-02,\n",
       "          1.15311832e-02,  -4.71525486e-02,  -1.72872561e-02,\n",
       "         -1.61284873e-02,  -1.39890459e-01,   4.99839580e-02,\n",
       "         -2.68688742e-02,   2.07454136e-02,  -1.07530205e-01,\n",
       "         -1.34728742e-01,  -1.15339291e-01,   8.21359749e-02,\n",
       "          7.79412957e-02,  -1.87017196e-02,   8.09459966e-02,\n",
       "         -3.16996918e-02,  -9.53146069e-02,  -1.13575840e-01,\n",
       "         -6.97181086e-02,   1.36146316e-01,  -9.26533614e-02,\n",
       "         -7.95459213e-03,   3.51856214e-02,   1.12310254e-02,\n",
       "          9.88724475e-02,   5.50579971e-02,   1.72643361e-01,\n",
       "         -1.70227932e-02,   8.01502889e-02,   2.14218789e-02,\n",
       "          1.43319791e-02,   4.22246512e-02,  -8.96363013e-02,\n",
       "         -6.30574941e-02,   9.91200995e-02,   4.59604396e-02,\n",
       "          1.53343550e-01,  -3.75333804e-02,  -1.74407142e-02,\n",
       "          1.27198307e-02,  -2.33887178e-02,  -2.35364691e-02,\n",
       "         -6.85763325e-03,  -3.51592298e-02,  -3.35833657e-02,\n",
       "         -5.19159566e-03,  -5.66576543e-02,  -4.35800640e-04,\n",
       "          1.29473028e-03,   5.57283345e-02,  -9.75111193e-03,\n",
       "          9.29834294e-03,   8.81751646e-02,   3.00183766e-02,\n",
       "         -4.99094754e-02,  -3.34660348e-02,  -2.48248287e-02,\n",
       "         -2.43583963e-02,   2.84209181e-03,   8.42108237e-03,\n",
       "          6.01032886e-02,  -2.03531439e-02,  -8.22765170e-03,\n",
       "         -4.42174680e-02],\n",
       "       [  8.34554196e-02,   8.47738333e-02,   2.53619315e-02,\n",
       "         -1.97862161e-02,  -5.07487527e-02,  -4.22045634e-03,\n",
       "          2.19987417e-03,   2.91658430e-03,   2.88885084e-02,\n",
       "         -9.54581076e-04,   3.65542339e-02,   8.99390924e-03,\n",
       "         -3.60715937e-03,   3.99545511e-03,  -4.33604497e-02,\n",
       "          2.33252024e-02,  -1.61324632e-02,  -2.35039386e-02,\n",
       "          5.51983739e-03,   1.96908850e-03,   4.66496921e-03,\n",
       "         -8.91322500e-03,   1.99592505e-02,   1.56337548e-02,\n",
       "         -1.01598703e-02,  -2.99947836e-03,  -3.19403899e-03,\n",
       "         -1.95732256e-02,  -6.54241220e-03,   3.93651362e-05,\n",
       "         -1.51474750e-02,  -9.25735985e-03,  -1.76417629e-02,\n",
       "         -2.20149896e-02,   4.04130552e-02,  -1.55606364e-02,\n",
       "         -7.29468445e-03,   1.77910085e-02,   1.08704478e-02,\n",
       "         -9.53084259e-03,  -6.07565913e-02,   5.44009995e-03,\n",
       "         -2.30996593e-02,  -9.25021415e-03,  -2.94664724e-02,\n",
       "         -2.40401011e-02,   1.46680595e-02,   4.02012288e-02,\n",
       "         -4.37226233e-02,  -1.12909277e-02,  -3.13429712e-03,\n",
       "          8.41519047e-03,  -2.65374178e-02,  -2.80304665e-02,\n",
       "          9.32242023e-03,   8.06449335e-03,  -3.65839102e-02,\n",
       "         -1.43132499e-02,  -2.90742233e-02,  -3.89851530e-03,\n",
       "          2.52954226e-02,  -1.42529378e-02,   1.34357139e-03,\n",
       "          6.53647444e-03,  -1.86901820e-02,   3.54613875e-02,\n",
       "         -9.99306063e-03,   3.24245539e-03,  -1.56975164e-02,\n",
       "         -5.75940708e-03,  -3.27199241e-02,   1.70043456e-02,\n",
       "          4.30764937e-03,  -1.72672042e-02,   4.33045085e-02,\n",
       "          2.61153308e-02,  -2.74766245e-02,  -3.85066114e-02,\n",
       "          4.32174594e-03,  -4.19624726e-02,  -1.97478029e-02,\n",
       "          4.53947737e-03,  -1.19761604e-03,   5.76094289e-03,\n",
       "         -2.36933661e-02,   6.85428168e-03,  -1.52948049e-02,\n",
       "          2.49751024e-02,   1.42779988e-03,   1.98651307e-02,\n",
       "          1.11547812e-02,  -2.56814928e-02,   6.27002124e-02,\n",
       "         -9.97919500e-03,  -5.63961521e-03,  -2.02305777e-02,\n",
       "         -3.73172219e-02,   2.70711505e-02,  -3.08042225e-02,\n",
       "          1.17693659e-02]])"
      ]
     },
     "execution_count": 36,
     "metadata": {},
     "output_type": "execute_result"
    }
   ],
   "source": [
    "wiki_svd_matrix[0:5]"
   ]
  },
  {
   "cell_type": "code",
   "execution_count": 16,
   "metadata": {},
   "outputs": [
    {
     "data": {
      "text/plain": [
       "array([ 0.00483526,  0.01776534,  0.01302833,  0.01045203,  0.00770768,\n",
       "        0.00721908,  0.00669387,  0.00552595,  0.00529684,  0.00499334,\n",
       "        0.00482626,  0.00451449,  0.00432126,  0.00398246,  0.00372253,\n",
       "        0.00361133,  0.00342344,  0.00339462,  0.00327732,  0.00316749,\n",
       "        0.00309248,  0.00301424,  0.00293291,  0.00281471,  0.00272836,\n",
       "        0.00266205,  0.00264757,  0.00252462,  0.0024713 ,  0.00241751,\n",
       "        0.00236871,  0.00233813,  0.0022923 ,  0.00226654,  0.00225078,\n",
       "        0.00220429,  0.00218351,  0.00212686,  0.00211591,  0.00210277,\n",
       "        0.00208909,  0.00205042,  0.00203009,  0.00200261,  0.00196178,\n",
       "        0.00193066,  0.00189356,  0.00186667,  0.00184384,  0.00182704,\n",
       "        0.00182005,  0.00176988,  0.00175747,  0.00174845,  0.00173248,\n",
       "        0.00172398,  0.00168664,  0.00167141,  0.00164616,  0.0016312 ,\n",
       "        0.0016234 ,  0.00161893,  0.00159204,  0.00158884,  0.00156506,\n",
       "        0.00155294,  0.00153279,  0.0015196 ,  0.00150473,  0.00149404,\n",
       "        0.00148794,  0.001477  ,  0.00146869,  0.00144679,  0.00142637,\n",
       "        0.00141999,  0.0014051 ,  0.00139898,  0.00139081,  0.00136812,\n",
       "        0.0013654 ,  0.00135022,  0.00133722,  0.00133064,  0.00131509,\n",
       "        0.00130147,  0.00128953,  0.0012831 ,  0.00127098,  0.00126299,\n",
       "        0.00125782,  0.00124521,  0.00124328,  0.00122167,  0.0012145 ,\n",
       "        0.00121064,  0.00120171,  0.00118086,  0.00117741,  0.00117288])"
      ]
     },
     "execution_count": 16,
     "metadata": {},
     "output_type": "execute_result"
    }
   ],
   "source": [
    "SVD.explained_variance_ratio_"
   ]
  },
  {
   "cell_type": "markdown",
   "metadata": {},
   "source": [
    "### Use Cosine Similiarity to produce top matching articles on a given search term"
   ]
  },
  {
   "cell_type": "code",
   "execution_count": 17,
   "metadata": {},
   "outputs": [],
   "source": [
    "search_term = \"microsoft word\""
   ]
  },
  {
   "cell_type": "code",
   "execution_count": 18,
   "metadata": {},
   "outputs": [],
   "source": [
    "search_term_vec = tfidf_vector.transform([search_term])\n",
    "search_term_lsa = SVD.transform(search_term_vec)\n",
    "cosine_similarities = wiki_svd_matrix.dot(search_term_lsa.T).ravel()"
   ]
  },
  {
   "cell_type": "code",
   "execution_count": 19,
   "metadata": {},
   "outputs": [
    {
     "data": {
      "text/plain": [
       "array([1113, 1442, 1428, 1179, 1858])"
      ]
     },
     "execution_count": 19,
     "metadata": {},
     "output_type": "execute_result"
    }
   ],
   "source": [
    "cosine_similarities.argsort()[:-6:-1]"
   ]
  },
  {
   "cell_type": "code",
   "execution_count": 20,
   "metadata": {},
   "outputs": [],
   "source": [
    "cos_sims = cosine_similarities.argsort()[-5:-6:-1][0]"
   ]
  },
  {
   "cell_type": "code",
   "execution_count": 21,
   "metadata": {},
   "outputs": [
    {
     "data": {
      "text/plain": [
       "'Office Genuine Advantage'"
      ]
     },
     "execution_count": 21,
     "metadata": {},
     "output_type": "execute_result"
    }
   ],
   "source": [
    "wiki_df.iloc[cos_sims]['title']"
   ]
  },
  {
   "cell_type": "code",
   "execution_count": 22,
   "metadata": {},
   "outputs": [],
   "source": [
    "def get_articles(search_term, svd_matrix, orig_df):\n",
    "    search_term_vec = tfidf_vector.transform([search_term])\n",
    "    search_term_lsa = SVD.transform(search_term_vec)\n",
    "    \n",
    "    #using global variable here must fix \n",
    "    cosine_similarities = svd_matrix.dot(search_term_lsa.T).ravel()\n",
    "    cos_sim_sorted = cosine_similarities.argsort()\n",
    "    cos_sims_5 = [cos_sim_sorted[:-2:-1][0],\n",
    "                  cos_sim_sorted[-2:-3:-1][0],\n",
    "                  cos_sim_sorted[-3:-4:-1][0],\n",
    "                  cos_sim_sorted[-4:-5:-1][0],\n",
    "                  cos_sim_sorted[-5:-6:-1][0]]\n",
    "\n",
    "    print(\"1: {}\".format(orig_df.iloc[cos_sims_5[0]]['title']))\n",
    "    print(\"2: {}\".format(orig_df.iloc[cos_sims_5[1]]['title']))\n",
    "    print(\"3: {}\".format(orig_df.iloc[cos_sims_5[2]]['title']))\n",
    "    print(\"4: {}\".format(orig_df.iloc[cos_sims_5[3]]['title']))\n",
    "    print(\"5: {}\".format(orig_df.iloc[cos_sims_5[4]]['title']))\n",
    "    return cos_sims_5"
   ]
  },
  {
   "cell_type": "code",
   "execution_count": 24,
   "metadata": {},
   "outputs": [],
   "source": [
    "search_term = 'Artificial Intelligence'"
   ]
  },
  {
   "cell_type": "code",
   "execution_count": 25,
   "metadata": {},
   "outputs": [
    {
     "name": "stdout",
     "output_type": "stream",
     "text": [
      "1: AAAI Conference on Artificial Intelligence\n",
      "2: Glossary of artificial intelligence\n",
      "3: International Joint Conference on Artificial Intelligence\n",
      "4: European Conference on Artificial Intelligence\n",
      "5: Jürgen Schmidhuber\n"
     ]
    },
    {
     "data": {
      "text/plain": [
       "[709, 84, 613, 112, 1037]"
      ]
     },
     "execution_count": 25,
     "metadata": {},
     "output_type": "execute_result"
    }
   ],
   "source": [
    "get_articles(search_term, wiki_svd_matrix, wiki_df)"
   ]
  },
  {
   "cell_type": "markdown",
   "metadata": {},
   "source": [
    "This search method appears to work relatively well. Four of the top five hits have the search term in the title, but note that I did not train the model on the article titles. On the other hand, however, due to the way wikipedia provides its page text via its API, the article title may be included in the text itself that I am training on. Despite this, the fact that it is producing articles with matching titles is indictative of a relatively good degree of success.\n",
    "\n",
    "Below are further examples of good functionality of the search engine."
   ]
  },
  {
   "cell_type": "code",
   "execution_count": 32,
   "metadata": {},
   "outputs": [
    {
     "name": "stdout",
     "output_type": "stream",
     "text": [
      "1: Microsoft Office 3.0\n",
      "2: Microsoft\n",
      "3: Microsoft Dynamics\n",
      "4: Microsoft Office 98 Macintosh Edition\n",
      "5: Office Genuine Advantage\n"
     ]
    },
    {
     "data": {
      "text/plain": [
       "[1113, 1442, 1428, 1179, 1858]"
      ]
     },
     "execution_count": 32,
     "metadata": {},
     "output_type": "execute_result"
    }
   ],
   "source": [
    "get_articles(\"Microsoft Word\", wiki_svd_matrix, wiki_df)"
   ]
  },
  {
   "cell_type": "markdown",
   "metadata": {},
   "source": [
    "Note: An interesting note on the \"Microsoft Word\" search results, \"Microsoft Word\" itself does not appear in the search results. This could be due to the use of min_df=5 when I initialized the TFDFI Vectorizor. 'word' could be ignored since it is a more common word (for example, I just used the word word 4 times in this sentence)."
   ]
  },
  {
   "cell_type": "code",
   "execution_count": 27,
   "metadata": {},
   "outputs": [
    {
     "name": "stdout",
     "output_type": "stream",
     "text": [
      "1: Machine learning\n",
      "2: Outline of machine learning\n",
      "3: Meta learning (computer science)\n",
      "4: BigDL\n",
      "5: Portal:Machine learning/Related portals\n"
     ]
    },
    {
     "data": {
      "text/plain": [
       "[924, 1031, 916, 990, 745]"
      ]
     },
     "execution_count": 27,
     "metadata": {},
     "output_type": "execute_result"
    }
   ],
   "source": [
    "get_articles(\"Machine Learning\", wiki_svd_matrix, wiki_df)"
   ]
  },
  {
   "cell_type": "code",
   "execution_count": 29,
   "metadata": {},
   "outputs": [
    {
     "name": "stdout",
     "output_type": "stream",
     "text": [
      "1: Kernel method\n",
      "2: Radial basis function kernel\n",
      "3: Multiple kernel learning\n",
      "4: Low-rank matrix approximations\n",
      "5: Kernel density estimation\n"
     ]
    },
    {
     "data": {
      "text/plain": [
       "[917, 946, 1051, 111, 1002]"
      ]
     },
     "execution_count": 29,
     "metadata": {},
     "output_type": "execute_result"
    }
   ],
   "source": [
    "get_articles(\"Kernel Approximation\", wiki_svd_matrix, wiki_df)"
   ]
  },
  {
   "cell_type": "markdown",
   "metadata": {},
   "source": [
    "Comparing the search results to google for, example, \"Kernel Approximation\", four of my top five results appear on the first page of the google search engine for the same search term. "
   ]
  },
  {
   "cell_type": "markdown",
   "metadata": {},
   "source": [
    "\"Kernel method\" appears first on google, followed by \"low-rank matrix approximation\" (rank 4 using get_articles()) and \"kernel density estimation\" (rank 5 using get_articles()). \n",
    "\n",
    "Lower in the search but still on the first page is \"Radial basis function kernel\", rank 7 on google.com versus rank 2 using get_articles().\n",
    "\n",
    "Clearly, there is some divergence in search results, with Google's no doubt being preferable, but for such as simple implementation this function works surprisingly well.\n",
    "\n",
    "\"Multiple kernel learning\", which appeared at rank 3 using get_articles(), did not appear on the first page of the google search. "
   ]
  }
 ],
 "metadata": {
  "kernelspec": {
   "display_name": "Python 3",
   "language": "python",
   "name": "python3"
  },
  "language_info": {
   "codemirror_mode": {
    "name": "ipython",
    "version": 3
   },
   "file_extension": ".py",
   "mimetype": "text/x-python",
   "name": "python",
   "nbconvert_exporter": "python",
   "pygments_lexer": "ipython3",
   "version": "3.6.2"
  }
 },
 "nbformat": 4,
 "nbformat_minor": 2
}
